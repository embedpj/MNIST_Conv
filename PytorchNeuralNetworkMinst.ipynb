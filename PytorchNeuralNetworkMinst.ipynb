{
 "cells": [
  {
   "cell_type": "markdown",
   "id": "6d12dfeb",
   "metadata": {},
   "source": [
    "A simple walkthrough of how to code a fully connected neural network\n",
    "using the PyTorch library. For demonstration we train it on the very\n",
    "common MNIST dataset of handwritten digits. In this code we go through\n",
    "how to create the network as well as initialize a loss function, optimizer,\n",
    "check accuracy and more.\n",
    "\n",
    "Programmed by Aladdin Persson \n",
    "* 2020-04-08: Initial coding\n",
    "* 2021-03-24: Added more detailed comments also removed part of\n",
    "          check_accuracy which would only work specifically on MNIST.    \n",
    "* 2021-05-24: Added single image display and verification - Prabhu\n",
    "          Added more comments to understand\n",
    "          Added one more hidden layer\n",
    "\n",
    "\n",
    "https://machinelearningknowledge.ai/pytorch-conv2d-explained-with-examples/"
   ]
  },
  {
   "cell_type": "code",
   "execution_count": 1,
   "id": "dd7ee322",
   "metadata": {},
   "outputs": [],
   "source": [
    "# Imports\n",
    "import torch\n",
    "import torchvision # torch package for vision related things\n",
    "import torch.nn.functional as F  # Parameterless functions, like (some) activation functions\n",
    "import torchvision.datasets as datasets  # Standard datasets\n",
    "import torchvision.transforms as transforms  # Transformations we can perform on our dataset for augmentation\n",
    "from torch import optim  # For optimizers like SGD, Adam, etc.\n",
    "from torch import nn  # All neural network modules\n",
    "from torch.utils.data import DataLoader  # Gives easier dataset managment by creating mini batches etc.\n",
    "from tqdm import tqdm  # For nice progress bar!\n",
    "from matplotlib import pyplot as plt\n",
    "from torch.autograd import Variable\n",
    "import torchvision.datasets as dsets\n",
    "import numpy as np\n",
    "batch_size = 32\n",
    "keep_prob = 1"
   ]
  },
  {
   "cell_type": "markdown",
   "id": "8aa92bb1",
   "metadata": {},
   "source": [
    "Here we create our simple neural network. For more details here we are subclassing and\n",
    "inheriting from nn.Module, this is the most general way to create your networks and\n",
    "allows for more flexibility. I encourage you to also check out nn.Sequential which\n",
    "would be easier to use in this scenario but I wanted to show you something that\n",
    "\"always\" works."
   ]
  },
  {
   "cell_type": "code",
   "execution_count": 2,
   "id": "c151dc9e",
   "metadata": {},
   "outputs": [],
   "source": [
    "device = torch.device(\"cuda\" if torch.cuda.is_available() else \"cpu\")"
   ]
  },
  {
   "cell_type": "code",
   "execution_count": 3,
   "id": "f2fbde74",
   "metadata": {},
   "outputs": [],
   "source": [
    "\n",
    "#Not used>>>>>>>>>>>>>>>>>>>>>>>>>>>>>\n",
    "\n",
    "class XNN(nn.Module):\n",
    "    def __init__(self, input_size, num_classes):\n",
    "        super(NN, self).__init__() #Override the init method\n",
    "        # Our first linear layer take input_size, in this case 784 nodes to 50\n",
    "        # and our second linear layer takes 50 to the num_classes we have, in\n",
    "        # this case 10.\n",
    "        self.fc1 = nn.Linear(input_size, 100)\n",
    "        self.fc2 = nn.Linear(100, 50)\n",
    "        self.fc3 = nn.Linear(50, num_classes)\n",
    "    def forward(self, x):\n",
    "        x = F.relu(self.fc1(x))        \n",
    "        x = (self.fc2(x))        \n",
    "        x = (self.fc3(x))\n",
    "        return x\n",
    "       "
   ]
  },
  {
   "cell_type": "code",
   "execution_count": 4,
   "id": "e5203390",
   "metadata": {},
   "outputs": [],
   "source": [
    "class NN(torch.nn.Module):\n",
    "\n",
    "    def __init__(self):\n",
    "        super(NN, self).__init__()\n",
    "        # L1 ImgIn shape=(?, 28, 28, 1)\n",
    "        # Conv -> (?, 28, 28, 32)\n",
    "        # Pool -> (?, 14, 14, 32)\n",
    "        self.layer1 = torch.nn.Sequential(\n",
    "            torch.nn.Conv2d(1, 32, kernel_size=3, stride=1, padding=1),\n",
    "            torch.nn.ReLU(),\n",
    "            torch.nn.MaxPool2d(kernel_size=2, stride=2),\n",
    "            torch.nn.Dropout(p=1 - keep_prob))\n",
    "        # L2 ImgIn shape=(?, 14, 14, 32)\n",
    "        # Conv      ->(?, 14, 14, 64)\n",
    "        # Pool      ->(?, 7, 7, 64)\n",
    "        self.layer2 = torch.nn.Sequential(\n",
    "            torch.nn.Conv2d(32, 64, kernel_size=3, stride=1, padding=1),\n",
    "            torch.nn.ReLU(),\n",
    "            torch.nn.MaxPool2d(kernel_size=2, stride=2),\n",
    "            torch.nn.Dropout(p=1 - keep_prob))\n",
    "        # L3 ImgIn shape=(?, 7, 7, 64)\n",
    "        # Conv ->(?, 7, 7, 128)\n",
    "        # Pool ->(?, 4, 4, 128)\n",
    "        self.layer3 = torch.nn.Sequential(\n",
    "            torch.nn.Conv2d(64, 128, kernel_size=3, stride=1, padding=1),\n",
    "            torch.nn.ReLU(),\n",
    "            torch.nn.MaxPool2d(kernel_size=2, stride=2, padding=1),\n",
    "            torch.nn.Dropout(p=1 - keep_prob))\n",
    "\n",
    "        # L4 FC 4x4x128 inputs -> 625 outputs\n",
    "        self.fc1 = torch.nn.Linear(4 * 4 * 128, 625, bias=True)\n",
    "        torch.nn.init.xavier_uniform(self.fc1.weight)\n",
    "        self.layer4 = torch.nn.Sequential(\n",
    "            self.fc1,\n",
    "            torch.nn.ReLU(),\n",
    "            torch.nn.Dropout(p=1 - keep_prob))\n",
    "        # L5 Final FC 625 inputs -> 10 outputs\n",
    "        self.fc2 = torch.nn.Linear(625, num_classes, bias=True)\n",
    "        torch.nn.init.xavier_uniform_(self.fc2.weight) # initialize parameters\n",
    "\n",
    "    def forward(self, x):\n",
    "        out = self.layer1(x)\n",
    "        out = self.layer2(out)\n",
    "        out = self.layer3(out)\n",
    "        out = out.view(out.size(0), -1)   # Flatten them for FC\n",
    "        out = self.fc1(out)\n",
    "        out = self.fc2(out)\n",
    "        return out\n"
   ]
  },
  {
   "cell_type": "markdown",
   "id": "b679b86d",
   "metadata": {},
   "source": [
    "\n",
    "x here is the mnist images and we run it through fc1, fc2, fc3 that we created above.\n",
    "we also add a ReLU activation function in between and for that (since it has no parameters)\n",
    "I recommend using nn.functional (F)\n",
    "\n",
    "[Hyperlink to Datasets and Dataloader](https://pytorch.org/tutorials/beginner/basics/data_tutorial.html)\n",
    "\n",
    "[Hyperlink to CrossEntropyLoss](https://pytorch.org/docs/stable/generated/torch.nn.CrossEntropyLoss.html)\n"
   ]
  },
  {
   "cell_type": "code",
   "execution_count": 5,
   "id": "183b07ea",
   "metadata": {},
   "outputs": [
    {
     "name": "stderr",
     "output_type": "stream",
     "text": [
      "C:\\Users\\Vaishali\\AppData\\Local\\Temp/ipykernel_2024/1612075814.py:32: UserWarning: nn.init.xavier_uniform is now deprecated in favor of nn.init.xavier_uniform_.\n",
      "  torch.nn.init.xavier_uniform(self.fc1.weight)\n",
      "  0%|                                                 | 0/1875 [00:00<?, ?it/s]d:\\users\\vaishali\\appdata\\local\\programs\\python\\python39\\lib\\site-packages\\torch\\nn\\functional.py:718: UserWarning: Named tensors and all their associated APIs are an experimental feature and subject to change. Please do not use them for anything important until they are released as stable. (Triggered internally at  ..\\c10/core/TensorImpl.h:1156.)\n",
      "  return torch.max_pool2d(input, kernel_size, stride, padding, dilation, ceil_mode)\n",
      "100%|██████████████████████████████████████| 1875/1875 [01:52<00:00, 16.60it/s]\n"
     ]
    }
   ],
   "source": [
    "\n",
    "\n",
    "# Set device cuda for GPU if it's available otherwise run on the CPU\n",
    "device = torch.device(\"cuda\" if torch.cuda.is_available() else \"cpu\")\n",
    "\n",
    "# Hyperparameters of our neural network which depends on the dataset, and\n",
    "# also just experimenting to see what works well (learning rate for example).\n",
    "input_size = 784  # 28 x 28\n",
    "num_classes = 10  #output classification 0,1...9\n",
    "learning_rate = 0.001\n",
    "batch_size = 32 \n",
    "test_size=32\n",
    "num_epochs = 1\n",
    "count = 0 # My  variable\n",
    "tdata = []\n",
    "tresult=[]\n",
    "# Load Training and Test data\n",
    "   # transforms.ToTensor convert image data 0-255 to Tensor data 0-1.0\n",
    "train_dataset = datasets.MNIST(root=\"dataset/\", train=True, transform=transforms.ToTensor(), download=True)\n",
    "test_dataset = datasets.MNIST(root=\"dataset/\", train=False, transform=transforms.ToTensor(), download=True)\n",
    "train_loader = DataLoader(dataset=train_dataset, batch_size=batch_size, shuffle=True)\n",
    "test_loader = DataLoader(dataset=test_dataset, batch_size=test_size, shuffle=True)\n",
    "\n",
    "\n",
    "# Initialize network\n",
    "# .to(device) is to move / setup to cuda or cpu\n",
    "#input_size is the input tensor *note this is image converted to one dimensional tensor.\n",
    "#num_classes is the output classification 0 to 9 is 10 classes\n",
    "\n",
    "#model = NN(input_size=input_size, num_classes=num_classes).to(device)\n",
    "model = NN()\n",
    "# The way the loss is to be computed\n",
    "criterion = nn.CrossEntropyLoss()\n",
    "\n",
    "# The way the Optim will work\n",
    "#model.parameters() extracted from model\n",
    "\n",
    "#optimizer = optim.SGD(model.parameters(), lr=learning_rate,momentum=.9)\n",
    "#optimizer = optim.Adam(model.parameters(), lr=learning_rate)\n",
    "optimizer = torch.optim.Adam(params=model.parameters(), lr=learning_rate)\n",
    "\n",
    "# Train Network\n",
    "for epoch in range(num_epochs):\n",
    "    #batch_idx is index of each batch. # data, targets are extracted from train_loader\n",
    "    for batch_idx, (data, targets) in enumerate(tqdm(train_loader)):\n",
    "        # 1 Get data to cuda/cpu if possible\n",
    "        #data = data.to(device=device)\n",
    "        #targets = targets.to(device=device)\n",
    "        X = Variable(data)    # image is already size of (28x28), no reshape\n",
    "        Y = Variable(targets)    # label is not one-hot encoded\n",
    "\n",
    "        # 2 convert image (square tensor 28 x 28) to linear tensor (1 x 784)\n",
    "        #data = data.reshape(data.shape[0], -1)\n",
    "        #print(data)\n",
    "        optimizer.zero_grad() # <= initialization of the gradients\n",
    "        # 3 forward pass\n",
    "        scores = model(X)\n",
    "        #print(scores)\n",
    "        #print(targets)\n",
    "        loss = criterion(scores, targets)\n",
    "        #loss_func = torch.nn.CrossEntropyLoss() \n",
    "        #loss = loss_func(scores, targets.squeeze())\n",
    "        #print (loss)\n",
    "        # 4 backward\n",
    "        #optimizer.zero_grad()\n",
    "        loss.backward()\n",
    "        \n",
    "        # 5 gradient descent or adam step\n",
    "        optimizer.step()\n",
    "\n",
    "        \n"
   ]
  },
  {
   "cell_type": "markdown",
   "id": "cade7a44",
   "metadata": {},
   "source": [
    "Extracting the data to single array - Prabhu"
   ]
  },
  {
   "cell_type": "markdown",
   "id": "0f5ab5d0",
   "metadata": {},
   "source": [
    "Displaying a single image and its classification by NN - Prabhu"
   ]
  },
  {
   "cell_type": "code",
   "execution_count": 4,
   "id": "e86e85bc",
   "metadata": {},
   "outputs": [
    {
     "name": "stdout",
     "output_type": "stream",
     "text": [
      "\n",
      "Accuracy: 97.56 %\n"
     ]
    }
   ],
   "source": [
    "# Test model and check accuracy\n",
    "model.eval()    # set the model to evaluation mode (dropout=False)\n",
    "\n",
    "X_test = Variable(test_dataset.data.view(len(test_dataset), 1, 28, 28).float())\n",
    "Y_test = Variable(test_dataset.targets)\n",
    "\n",
    "prediction = model(X_test)\n",
    "\n",
    "# Compute accuracy\n",
    "correct_prediction = (torch.max(prediction.data, dim=1)[1] == Y_test.data)\n",
    "accuracy = correct_prediction.float().mean().item()\n",
    "print('\\nAccuracy: {:2.2f} %'.format(accuracy*100))"
   ]
  },
  {
   "cell_type": "code",
   "execution_count": 5,
   "id": "db1dcd30",
   "metadata": {},
   "outputs": [
    {
     "name": "stderr",
     "output_type": "stream",
     "text": [
      "<ipython-input-5-48ef04c7b69a>:6: MatplotlibDeprecationWarning: Passing non-integers as three-element position specification is deprecated since 3.3 and will be removed two minor releases later.\n",
      "  plt.subplot(4,4,i+1)\n"
     ]
    },
    {
     "data": {
      "image/png": "[encoded data removed]",
      "text/plain": [
       "<Figure size 1080x1080 with 12 Axes>"
      ]
     },
     "metadata": {},
     "output_type": "display_data"
    }
   ],
   "source": [
    "from matplotlib import pylab as plt\n",
    "\n",
    "plt.figure(figsize=(15,15), facecolor='white')\n",
    "for i in torch.arange(0,12):\n",
    "  val, idx = torch.max(prediction, dim=1)\n",
    "  plt.subplot(4,4,i+1)  \n",
    "  plt.imshow(X_test[i][0])\n",
    "  plt.title('This image contains: {0:>2} '.format(idx[i].item()))\n",
    "  plt.xticks([]), plt.yticks([])\n",
    "  plt.plt.subplots_adjust()\n",
    "\n"
   ]
  },
  {
   "cell_type": "markdown",
   "id": "4078adc4",
   "metadata": {},
   "source": [
    "\n",
    "Now checking the accuracy using the data set\n",
    "Check \"9\" at pos 4000 with 1 epoch and 2 epoch"
   ]
  },
  {
   "cell_type": "code",
   "execution_count": null,
   "id": "1264c68c",
   "metadata": {},
   "outputs": [],
   "source": []
  }
 ],
 "metadata": {
  "kernelspec": {
   "display_name": "Python 3 (ipykernel)",
   "language": "python",
   "name": "python3"
  },
  "language_info": {
   "codemirror_mode": {
    "name": "ipython",
    "version": 3
   },
   "file_extension": ".py",
   "mimetype": "text/x-python",
   "name": "python",
   "nbconvert_exporter": "python",
   "pygments_lexer": "ipython3",
   "version": "3.9.6"
  }
 },
 "nbformat": 4,
 "nbformat_minor": 5
}
